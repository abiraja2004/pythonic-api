{
 "cells": [
  {
   "cell_type": "markdown",
   "metadata": {},
   "source": [
    "# Pythonic APIs: the workshop notebook"
   ]
  },
  {
   "cell_type": "markdown",
   "metadata": {},
   "source": [
    "## Tutorial overview\n",
    "\n",
    "* Introduction\n",
    "* A simple but full-featured Pythonic class\n",
    "  * **Exercise:** custom formatting and alternate constructor\n",
    "* A Pythonic sequence\n",
    "  * **Exercise:** implementing sequence behavior\n",
    "* *Coffee break*\n",
    "* A Pythonic sequence (continued)\n",
    "  * **Exercise:** custom formatting\n",
    "* Operator overloading\n",
    "  * **Exercise:** implement `@` for dot product\n",
    "* Wrap-up\n"
   ]
  },
  {
   "cell_type": "markdown",
   "metadata": {},
   "source": [
    "## Introduction\n",
    "\n",
    "One of the keys to consistent, *Pythonic*, behavior in Python is understanding and leveraging the **Data Model**. The Python Data Model defines standard APIs which enable...\n",
    "\n",
    "### Iteration"
   ]
  },
  {
   "cell_type": "code",
   "execution_count": 9,
   "metadata": {
    "collapsed": false
   },
   "outputs": [
    {
     "name": "stdout",
     "output_type": "stream",
     "text": [
      "['F', 'l', 'u', 'e', 'n', 't']\n",
      "(10, 20, 30)\n",
      "10\n",
      "20\n",
      "30\n",
      "40\n",
      "50\n"
     ]
    }
   ],
   "source": [
    "s = 'Fluent'\n",
    "l = [10, 20, 30, 40, 50]\n",
    "\n",
    "print(list(s))  # list constructor iterates over its argument\n",
    "\n",
    "a, b, c, *rest = l  # tuple unpacking iterates over right side\n",
    "print((a, b, c))\n",
    "\n",
    "for i in l:\n",
    "    print(i)"
   ]
  },
  {
   "cell_type": "markdown",
   "metadata": {},
   "source": [
    "## A simple but full-featured Pythonic class"
   ]
  },
  {
   "cell_type": "markdown",
   "metadata": {},
   "source": []
  }
 ],
 "metadata": {
  "kernelspec": {
   "display_name": "Python 3",
   "language": "python",
   "name": "python3"
  },
  "language_info": {
   "codemirror_mode": {
    "name": "ipython",
    "version": 3
   },
   "file_extension": ".py",
   "mimetype": "text/x-python",
   "name": "python",
   "nbconvert_exporter": "python",
   "pygments_lexer": "ipython3",
   "version": "3.5.1"
  }
 },
 "nbformat": 4,
 "nbformat_minor": 0
}
